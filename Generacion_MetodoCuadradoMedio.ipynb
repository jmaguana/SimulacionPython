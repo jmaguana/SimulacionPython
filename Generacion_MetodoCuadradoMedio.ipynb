{
 "cells": [
  {
   "attachments": {},
   "cell_type": "markdown",
   "metadata": {},
   "source": [
    "# Generación de números pseudoaleatorios\n",
    "## Método de los cuadrados medios"
   ]
  },
  {
   "cell_type": "code",
   "execution_count": 25,
   "metadata": {},
   "outputs": [
    {
     "name": "stdout",
     "output_type": "stream",
     "text": [
      "╒═══════════╤════════╤══════════════╤══════╤════════╕\n",
      "│ Iteracion │ Xn     │ Xn*Xn        │ Ui   │ Rn     │\n",
      "├───────────┼────────┼──────────────┼──────┼────────┤\n",
      "│ 0         │ 265987 │ 070749084169 │ 4908 │ 0.4908 │\n",
      "├───────────┼────────┼──────────────┼──────┼────────┤\n",
      "│ 1         │ 4908   │ 24088464     │ 884  │ 0.0884 │\n",
      "├───────────┼────────┼──────────────┼──────┼────────┤\n",
      "│ 2         │ 884    │ 781456       │ 8145 │ 0.8145 │\n",
      "├───────────┼────────┼──────────────┼──────┼────────┤\n",
      "│ 3         │ 8145   │ 66341025     │ 3410 │ 0.341  │\n",
      "├───────────┼────────┼──────────────┼──────┼────────┤\n",
      "│ 4         │ 3410   │ 11628100     │ 6281 │ 0.6281 │\n",
      "├───────────┼────────┼──────────────┼──────┼────────┤\n",
      "│ 5         │ 6281   │ 39450961     │ 4509 │ 0.4509 │\n",
      "├───────────┼────────┼──────────────┼──────┼────────┤\n",
      "│ 6         │ 4509   │ 20331081     │ 3310 │ 0.331  │\n",
      "├───────────┼────────┼──────────────┼──────┼────────┤\n",
      "│ 7         │ 3310   │ 10956100     │ 9561 │ 0.9561 │\n",
      "├───────────┼────────┼──────────────┼──────┼────────┤\n",
      "│ 8         │ 9561   │ 91412721     │ 4127 │ 0.4127 │\n",
      "├───────────┼────────┼──────────────┼──────┼────────┤\n",
      "│ 9         │ 4127   │ 17032129     │ 321  │ 0.0321 │\n",
      "├───────────┼────────┼──────────────┼──────┼────────┤\n",
      "│ 10        │ 321    │ 103041       │ 304  │ 0.0304 │\n",
      "├───────────┼────────┼──────────────┼──────┼────────┤\n",
      "│ 11        │ 304    │ 092416       │ 9241 │ 0.9241 │\n",
      "├───────────┼────────┼──────────────┼──────┼────────┤\n",
      "│ 12        │ 9241   │ 85396081     │ 3960 │ 0.396  │\n",
      "├───────────┼────────┼──────────────┼──────┼────────┤\n",
      "│ 13        │ 3960   │ 15681600     │ 6816 │ 0.6816 │\n",
      "├───────────┼────────┼──────────────┼──────┼────────┤\n",
      "│ 14        │ 6816   │ 46457856     │ 4578 │ 0.4578 │\n",
      "╘═══════════╧════════╧══════════════╧══════╧════════╛\n"
     ]
    }
   ],
   "source": [
    "from tabulate import tabulate\n",
    "\n",
    "semilla = 265987\n",
    "digitos = 4\n",
    "iteraciones = 15\n",
    "tabla = []\n",
    "\n",
    "tabla.append([\"Iteracion\",\"Xn\",\"Xn*Xn\",\"Ui\",\"Rn\"])\n",
    "##Generar valores\n",
    "xn = semilla\n",
    "for i in range(iteraciones):\n",
    "    cuadrado = xn**2\n",
    "    numero = str(cuadrado)\n",
    "    if (len(numero)%2 != digitos%2):\n",
    "        numero = \"0\"+numero\n",
    "        \n",
    "    if (len(numero)<=digitos):\n",
    "        Ui = cuadrado\n",
    "    else:\n",
    "        indice = int((len(numero)-digitos)/2)\n",
    "        Ui = int(numero[indice:digitos+indice])\n",
    "    valor = Ui/(10**digitos)\n",
    "    tabla.append([i,xn,numero,Ui,valor])\n",
    "    xn = Ui\n",
    "    \n",
    "\n",
    "print(tabulate(tabla, tablefmt='fancy_grid'))"
   ]
  }
 ],
 "metadata": {
  "kernelspec": {
   "display_name": "Python 3",
   "language": "python",
   "name": "python3"
  },
  "language_info": {
   "codemirror_mode": {
    "name": "ipython",
    "version": 3
   },
   "file_extension": ".py",
   "mimetype": "text/x-python",
   "name": "python",
   "nbconvert_exporter": "python",
   "pygments_lexer": "ipython3",
   "version": "3.7.6"
  }
 },
 "nbformat": 4,
 "nbformat_minor": 4
}
