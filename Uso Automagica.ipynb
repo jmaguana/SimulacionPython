{
 "cells": [
  {
   "cell_type": "markdown",
   "metadata": {},
   "source": [
    "## Ejemplo de Word y Excel con Automagica"
   ]
  },
  {
   "cell_type": "code",
   "execution_count": 5,
   "metadata": {},
   "outputs": [],
   "source": [
    "from automagica import *"
   ]
  },
  {
   "cell_type": "markdown",
   "metadata": {},
   "source": [
    "### Word Application"
   ]
  },
  {
   "cell_type": "code",
   "execution_count": 23,
   "metadata": {},
   "outputs": [],
   "source": [
    "# Start Word\n",
    "word = Word()\n",
    "\n",
    "#Agregamos texto a word\n",
    "word.append_text('ejemplo de texto escrito en word.')\n",
    "\n",
    "#Reemplazamos texto ya escrito\n",
    "word.replace_text('ejemplo', 'Ejemplo')\n",
    "\n",
    "#Agregamos encabezado \n",
    "word.set_headers('Encabezado: Hoja de prueba')\n",
    "\n",
    "#Agregamos pie de pagina\n",
    "word.set_footers('Ejmeplo pie de pagina')"
   ]
  },
  {
   "cell_type": "markdown",
   "metadata": {},
   "source": [
    "Guardamos y exportamos"
   ]
  },
  {
   "cell_type": "code",
   "execution_count": 24,
   "metadata": {},
   "outputs": [],
   "source": [
    "#exportamos el archivo pdf\n",
    "word.export_to_pdf('C:/Users/jhonn/Desktop/Jhonny/EjemploPdf.pdf')\n",
    "\n",
    "#Guardamos el archivo word\n",
    "word.save_as('C:/Users/jhonn/Desktop/Jhonny/EjemploWord.docx')\n",
    "\n",
    "\n",
    "# Abrimos el archivos pdf\n",
    "open_file('C:/Users/jhonn/Desktop/Jhonny/EjemploPdf.pdf')\n",
    "\n",
    "#Cerramos el documento\n",
    "word.quit()"
   ]
  },
  {
   "cell_type": "markdown",
   "metadata": {},
   "source": [
    "### Excel Application"
   ]
  },
  {
   "cell_type": "code",
   "execution_count": 35,
   "metadata": {},
   "outputs": [
    {
     "name": "stdout",
     "output_type": "stream",
     "text": [
      "Archivo creado\n"
     ]
    }
   ],
   "source": [
    "excel = Excel()\n",
    "\n",
    "#Creamos hojas de calculo\n",
    "excel.add_worksheet('hoja uno')\n",
    "excel.add_worksheet('hoja dos')\n",
    "\n",
    "#Activamos la primera hoja para escribir\n",
    "excel.activate_worksheet('hoja uno')\n",
    "                             \n",
    "#Escribimos en las celdas\n",
    "excel.write_cell(1, 1, '2')\n",
    "excel.write_cell(1, 2, '3')\n",
    "excel.write_cell(2, 3, 'Ejemplo texto')\n",
    "\n",
    "#Insertamos una formula\n",
    "excel.write_cell_formula(3, 1, '=A1+A2')\n",
    "\n",
    "print(\"Archivo creado\")"
   ]
  },
  {
   "cell_type": "code",
   "execution_count": 36,
   "metadata": {},
   "outputs": [
    {
     "name": "stdout",
     "output_type": "stream",
     "text": [
      "fin\n"
     ]
    }
   ],
   "source": [
    "#Guardamos el documento\n",
    "excel.save_as('EjemploExcel.xlsx')\n",
    "\n",
    "#Guardamos como pdf la hoja seleccionada\n",
    "excel.export_to_pdf('EjemploExcelPdf.pdf')\n",
    "\n",
    "#Cerramos el documento\n",
    "excel.quit()\n",
    "\n",
    "# Abrimos el archivos pdf\n",
    "open_file('EjemploExcelPdf.pdf')\n",
    "\n",
    "print(\"fin\")"
   ]
  },
  {
   "cell_type": "markdown",
   "metadata": {},
   "source": [
    "### Conclusiones\n",
    "Automagica es una herramienta con un alto potencial para automatizar procesos, en este caso usando herramientas Office y manipulando a nuestra convenienza.\n",
    "\n",
    "### Recomendaciones\n",
    "Se debe tener en cuenta que la función para reemplazar texto se aplicará a todo el texto en el archivo abierto.\n",
    "Los archivos que no seguarden con un path completo se guardaran en la carpeta documents en el caso del sistema operativo Windows.\n",
    "\n",
    "### Referencias\n",
    "https://github.com/automagica/automagica\n",
    "\n",
    "\n",
    "https://automagica.readthedocs.io/activities.html"
   ]
  }
 ],
 "metadata": {
  "kernelspec": {
   "display_name": "Python 3",
   "language": "python",
   "name": "python3"
  },
  "language_info": {
   "codemirror_mode": {
    "name": "ipython",
    "version": 3
   },
   "file_extension": ".py",
   "mimetype": "text/x-python",
   "name": "python",
   "nbconvert_exporter": "python",
   "pygments_lexer": "ipython3",
   "version": "3.7.6"
  }
 },
 "nbformat": 4,
 "nbformat_minor": 4
}
