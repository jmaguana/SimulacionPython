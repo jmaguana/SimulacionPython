{
 "cells": [
  {
   "cell_type": "markdown",
   "metadata": {},
   "source": [
    "# Prueba Practica\n",
    "Alumno: Jhonny Maguana"
   ]
  },
  {
   "cell_type": "markdown",
   "metadata": {},
   "source": [
    "#### Se buscar encontrar la eficiencia de la generación de números pseudo-aletorios a través de los métodos de cuadrados medios y congruencia lineal, para ello se debe seguir el siguiente proceso:"
   ]
  },
  {
   "cell_type": "markdown",
   "metadata": {},
   "source": [
    "### 1. A traves de la misma api generar una semilla diferente. "
   ]
  },
  {
   "cell_type": "code",
   "execution_count": 22,
   "metadata": {},
   "outputs": [],
   "source": [
    "def semilla_congruencia(iteraciones):\n",
    "    a = 11\n",
    "    b = 15\n",
    "    m = 13137\n",
    "    xn_uno = 101\n",
    "    \n",
    "    tabla = []\n",
    "    xna = xn_uno\n",
    "    for i in range(1,iteraciones+1):\n",
    "        numero = (a*xna+b)%m\n",
    "        valor = numero/m\n",
    "        tabla.append(round(valor*9000)+1000)\n",
    "        xna = numero\n",
    "    return tabla\n",
    "\n",
    "\n",
    "\n",
    "\n",
    "def semilla_cuadra_medio(iteraciones):\n",
    "    semilla_uno = 265987\n",
    "    digitos = 5\n",
    "    \n",
    "    tabla = []\n",
    "    xn = semilla_uno\n",
    "    for i in range(iteraciones):\n",
    "        cuadrado = xn**2\n",
    "        numero = str(cuadrado)\n",
    "        if (len(numero)%2 != digitos%2):\n",
    "            numero = \"0\"+numero\n",
    "\n",
    "        if (len(numero)<=digitos):\n",
    "            Ui = cuadrado\n",
    "        else:\n",
    "            indice = int((len(numero)-digitos)/2)\n",
    "            Ui = int(numero[indice:digitos+indice])\n",
    "        valor = Ui/(10**digitos)\n",
    "\n",
    "        tabla.append(round(valor*9000)+1000)\n",
    "        \n",
    "        xn = Ui\n",
    "    return tabla\n",
    "    "
   ]
  },
  {
   "cell_type": "markdown",
   "metadata": {},
   "source": [
    "### 2. Encontrar el numero de iteraciones hasta que se repita uno de sus datos."
   ]
  },
  {
   "cell_type": "markdown",
   "metadata": {},
   "source": [
    "##### Congruencia Lineal"
   ]
  },
  {
   "cell_type": "code",
   "execution_count": 23,
   "metadata": {},
   "outputs": [
    {
     "name": "stdout",
     "output_type": "stream",
     "text": [
      "Se repite:  255\n",
      "en la iteración:  42\n"
     ]
    }
   ],
   "source": [
    "a = 3\n",
    "b = 10\n",
    "m = 13137\n",
    "xn = semilla_congruencia(1)[0]\n",
    "\n",
    "tabla = []\n",
    "    \n",
    "xna = xn\n",
    "while(True):\n",
    "    numero = (a*xna+b)%m\n",
    "    valor = numero/m\n",
    "    resultado = round(valor*1000)\n",
    "    if(resultado in tabla):\n",
    "        print(\"Se repite: \",resultado)\n",
    "        tabla.append(resultado)\n",
    "        break\n",
    "        \n",
    "    tabla.append(resultado)\n",
    "    xna = numero\n",
    "\n",
    "print(\"en la iteración: \",len(tabla))"
   ]
  },
  {
   "cell_type": "markdown",
   "metadata": {},
   "source": [
    "#####  Cuadrado Medio"
   ]
  },
  {
   "cell_type": "code",
   "execution_count": 24,
   "metadata": {},
   "outputs": [
    {
     "name": "stdout",
     "output_type": "stream",
     "text": [
      "Se repite:  106\n",
      "en la iteración:  32\n"
     ]
    }
   ],
   "source": [
    "semilla = semilla_cuadra_medio(1)[0]\n",
    "digitos = 5\n",
    "iteraciones = 15\n",
    "tabla = []\n",
    "xn = semilla\n",
    "while(True):\n",
    "    cuadrado = xn**2\n",
    "    numero = str(cuadrado)\n",
    "    if (len(numero)%2 != digitos%2):\n",
    "        numero = \"0\"+numero\n",
    "\n",
    "    if (len(numero)<=digitos):\n",
    "        Ui = cuadrado\n",
    "    else:\n",
    "        indice = int((len(numero)-digitos)/2)\n",
    "        Ui = int(numero[indice:digitos+indice])\n",
    "    valor = Ui/(10**digitos)\n",
    "    \n",
    "    resultado = round(valor*1000)\n",
    "    if(resultado in tabla):\n",
    "        print(\"Se repite: \",resultado)\n",
    "        tabla.append(resultado)\n",
    "        break\n",
    "        \n",
    "    tabla.append(resultado)\n",
    "    xn = Ui\n",
    "    \n",
    "print(\"en la iteración: \",len(tabla))"
   ]
  },
  {
   "cell_type": "markdown",
   "metadata": {},
   "source": [
    "### 3. Generar 100 simulaciones con diferentes semillas."
   ]
  },
  {
   "cell_type": "markdown",
   "metadata": {},
   "source": [
    "##### Congruencia Lineal"
   ]
  },
  {
   "cell_type": "code",
   "execution_count": 25,
   "metadata": {},
   "outputs": [
    {
     "name": "stdout",
     "output_type": "stream",
     "text": [
      "[1771, 9496, 4464, 3112, 6244, 4691, 5607, 6682, 9514, 4660, 5267, 2952, 4480, 3293, 8233, 8575, 3335, 8700, 4715, 5870, 9583, 5428, 4723, 5961, 1578, 7371, 8087, 6970, 3679, 3476, 1245, 3708, 3800, 4810, 6918, 3106, 6176, 3945, 6400, 6409, 6507, 7584, 1438, 5833, 9177, 9952, 9483, 4321, 1537, 6918, 3113, 6259, 4856, 7430, 8743, 5182, 2010, 3118, 6311, 5437, 4813, 6955, 3520, 1735, 9096, 9070, 8784, 5634, 6984, 3829, 5134, 1482, 6316, 5482, 5311, 3427, 9703, 6740, 1147, 2623, 9863, 8503, 2544, 8996, 7970, 5681, 7504, 9549, 5052, 9578, 5368, 4060, 7666, 2335, 6698, 9687, 6566, 8240, 8650, 4164]\n"
     ]
    }
   ],
   "source": [
    "semillas = semilla_congruencia(100)\n",
    "print(semillas)"
   ]
  },
  {
   "cell_type": "code",
   "execution_count": 26,
   "metadata": {},
   "outputs": [
    {
     "name": "stdout",
     "output_type": "stream",
     "text": [
      "[16, 21, 44, 36, 38, 44, 24, 26, 2, 26, 17, 42, 57, 40, 88, 72, 9, 56, 11, 40, 22, 65, 14, 40, 18, 10, 54, 48, 57, 70, 45, 23, 47, 29, 27, 26, 59, 46, 45, 70, 50, 151, 44, 28, 32, 32, 63, 26, 49, 27, 41, 79, 7, 48, 21, 64, 55, 151, 47, 41, 31, 12, 19, 64, 24, 37, 58, 59, 19, 24, 52, 4, 41, 31, 35, 57, 25, 50, 19, 12, 25, 33, 45, 57, 33, 14, 31, 9, 54, 31, 14, 12, 24, 151, 46, 58, 15, 31, 11, 57]\n"
     ]
    }
   ],
   "source": [
    "a = 13\n",
    "b = 23\n",
    "m = 13137\n",
    "tablacl = []\n",
    "for i in semillas:\n",
    "    \n",
    "    tabla_aux = []\n",
    "    \n",
    "    xna = i\n",
    "    while(True):\n",
    "        numero = (a*xna+b)%m\n",
    "        valor = numero/m\n",
    "        resultado = round(valor*1000)\n",
    "        if(resultado in tabla_aux):\n",
    "            tabla_aux.append(resultado)\n",
    "            break\n",
    "\n",
    "        tabla_aux.append(resultado)\n",
    "        xna = numero\n",
    "    tablacl.append(len(tabla_aux))\n",
    "    \n",
    "print(tablacl)"
   ]
  },
  {
   "cell_type": "markdown",
   "metadata": {},
   "source": [
    "#####  Cuadrado Medio"
   ]
  },
  {
   "cell_type": "code",
   "execution_count": 27,
   "metadata": {},
   "outputs": [
    {
     "name": "stdout",
     "output_type": "stream",
     "text": [
      "[5418, 1832, 5823, 7480, 8495, 4200, 6793, 4926, 1283, 8736, 9021, 4830, 1960, 4502, 2294, 7028, 8781, 7686, 2764, 4673, 6935, 5387, 7829, 6200, 4405, 3834, 2288, 5324, 1766, 3239, 9158, 2421, 9392, 9450, 2278, 2604, 7797, 1349, 5507, 1703, 1840, 7445, 3493, 7810, 3335, 3969, 8933, 7211, 6639, 3320, 4869, 5333, 2571, 5335, 2797, 8669, 6513, 5696, 3001, 4756, 4718, 1579, 2245, 2242, 1272, 2084, 5465, 6557, 2142, 1978, 8302, 8445, 4908, 8716, 5467, 6700, 2019, 8369, 1331, 4182, 5466, 6611, 8787, 8776, 6877, 6827, 9249, 1074, 7081, 6889, 8345, 6388, 8544, 3291, 8253, 9498, 2447, 8710, 4449, 7158]\n"
     ]
    }
   ],
   "source": [
    "semillascm = semilla_cuadra_medio(100)\n",
    "print(semillascm)"
   ]
  },
  {
   "cell_type": "code",
   "execution_count": 28,
   "metadata": {},
   "outputs": [
    {
     "name": "stdout",
     "output_type": "stream",
     "text": [
      "[32, 65, 70, 15, 54, 27, 19, 31, 12, 47, 42, 72, 12, 23, 32, 81, 60, 74, 14, 32, 22, 47, 58, 12, 64, 25, 46, 49, 38, 18, 31, 4, 44, 23, 62, 22, 75, 54, 43, 47, 16, 35, 54, 27, 55, 25, 12, 30, 33, 38, 14, 54, 88, 48, 10, 47, 22, 56, 7, 21, 49, 27, 29, 29, 31, 33, 45, 44, 30, 54, 37, 5, 28, 28, 35, 18, 47, 44, 47, 44, 31, 41, 40, 24, 51, 27, 26, 45, 43, 43, 21, 23, 40, 20, 47, 70, 58, 39, 42, 23]\n"
     ]
    }
   ],
   "source": [
    "\n",
    "digitos = 5\n",
    "iteraciones = 15\n",
    "tablacm = []\n",
    "\n",
    "for i in semillascm:\n",
    "    xn = i\n",
    "    tabla_aux = []\n",
    "    while(True):\n",
    "        cuadrado = xn**2\n",
    "        numero = str(cuadrado)\n",
    "        if (len(numero)%2 != digitos%2):\n",
    "            numero = \"0\"+numero\n",
    "\n",
    "        if (len(numero)<=digitos):\n",
    "            Ui = cuadrado\n",
    "        else:\n",
    "            indice = int((len(numero)-digitos)/2)\n",
    "            Ui = int(numero[indice:digitos+indice])\n",
    "        valor = Ui/(10**digitos)\n",
    "\n",
    "        resultado = round(valor*1000)\n",
    "        if(resultado in tabla_aux):\n",
    "            tabla_aux.append(resultado)\n",
    "            break\n",
    "\n",
    "        tabla_aux.append(resultado)\n",
    "        xn = Ui\n",
    "    tablacm.append(len(tabla_aux))\n",
    "    \n",
    "print(tablacm)"
   ]
  },
  {
   "cell_type": "markdown",
   "metadata": {},
   "source": [
    "### 4. Generar un histograma con el resultado obtenidos por cada método."
   ]
  },
  {
   "cell_type": "markdown",
   "metadata": {},
   "source": [
    "##### Congruencia Lineal"
   ]
  },
  {
   "cell_type": "code",
   "execution_count": 32,
   "metadata": {},
   "outputs": [
    {
     "data": {
      "image/png": "[encoded data removed]",
      "text/plain": [
       "<Figure size 1080x504 with 1 Axes>"
      ]
     },
     "metadata": {
      "needs_background": "light"
     },
     "output_type": "display_data"
    }
   ],
   "source": [
    "import numpy as np\n",
    "import matplotlib.pyplot as pp\n",
    "\n",
    "tablacl.sort()\n",
    "contador = 1\n",
    "x=[]\n",
    "y=[]\n",
    "for i in range(len(tablacl)-1):\n",
    "    if(tablacl[i]==tablacl[i+1]):\n",
    "        contador+=1\n",
    "    else:\n",
    "        y.append(tablacl[i])\n",
    "        x.append(contador)\n",
    "        contador = 1\n",
    "y.append(tablacl[-1])\n",
    "x.append(contador)\n",
    "pp.figure(figsize=(15,7))\n",
    "\n",
    "pp.bar(y,x)\n",
    "pp.show()"
   ]
  },
  {
   "cell_type": "markdown",
   "metadata": {},
   "source": [
    "#####  Cuadrado Medio"
   ]
  },
  {
   "cell_type": "code",
   "execution_count": 34,
   "metadata": {},
   "outputs": [
    {
     "data": {
      "image/png": "[encoded data removed]",
      "text/plain": [
       "<Figure size 1080x504 with 1 Axes>"
      ]
     },
     "metadata": {
      "needs_background": "light"
     },
     "output_type": "display_data"
    }
   ],
   "source": [
    "import numpy as np\n",
    "import matplotlib.pyplot as pp\n",
    "\n",
    "tablacm.sort()\n",
    "contador = 1\n",
    "x=[]\n",
    "y=[]\n",
    "for i in range(len(tablacm)-1):\n",
    "    if(tablacm[i]==tablacm[i+1]):\n",
    "        contador+=1\n",
    "    else:\n",
    "        y.append(tablacm[i])\n",
    "        x.append(contador)\n",
    "        contador = 1\n",
    "\n",
    "y.append(tablacm[-1])\n",
    "x.append(contador)\n",
    "pp.figure(figsize=(15,7))\n",
    "pp.bar(y,x)\n",
    "pp.show()"
   ]
  },
  {
   "cell_type": "markdown",
   "metadata": {},
   "source": [
    "### 5. Agregar sus conclusiones, opiniones y recomendaciones"
   ]
  },
  {
   "cell_type": "markdown",
   "metadata": {},
   "source": [
    "En los graficos notamos que el metodo de a congruencia lineal genera numeros mas variados, las pruebas se hicieron generando numero aleatorios enteros entre 0 y 1000, mientras que con el metodo de los cuadrados medios tenemos un pico de un intento ha llegado mayor a 80, con el metodo de la congruencia lineal tenemos  tres intentos que han superado las 150 iteraciones.\n",
    "\n",
    "Esto demuestra que el metodo de la congruencia lineal a pesar de ser un metodo mas sencillo de implementar tiene mejores resultados en variedad de numero generados.\n",
    "\n",
    "Para realizar esta demostración se recomienda limitar el rango de generación de nueros intentos, con esto aseguramos el resultado acorde con la realidad de la efectividadd de los metodos."
   ]
  }
 ],
 "metadata": {
  "kernelspec": {
   "display_name": "Python 3",
   "language": "python",
   "name": "python3"
  },
  "language_info": {
   "codemirror_mode": {
    "name": "ipython",
    "version": 3
   },
   "file_extension": ".py",
   "mimetype": "text/x-python",
   "name": "python",
   "nbconvert_exporter": "python",
   "pygments_lexer": "ipython3",
   "version": "3.7.6"
  }
 },
 "nbformat": 4,
 "nbformat_minor": 4
}
