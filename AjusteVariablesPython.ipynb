{
 "cells": [
  {
   "cell_type": "markdown",
   "metadata": {},
   "source": [
    "# Probabilidad y Estadística con Python"
   ]
  },
  {
   "cell_type": "markdown",
   "metadata": {},
   "source": [
    "## ¿Qué es la Estadística?\n",
    "\n",
    "La estadística suele ser definida como la ciencia de aprender de los datos o como la ciencia de obtener conclusiones en la presencia de incertidumbre. Se relaciona principalmente con la recolección, análisis e interpretación de datos, así como también con la efectiva comunicación y presentación de los resultados basados en esos datos. Como por datos entendemos a cualquier clase de información grabada, la estadística juego un rol importante en muchas disciplinas científicas.\n",
    "\n",
    "La estadística suele ser dividida en dos grandes ramas:\n",
    "\n",
    "La estadística descriptiva: La cual se dedica a recolectar, ordenar, analizar y representar a un conjunto de datos, con el fin de describir apropiadamente las características de este. Calcula los parámetros estadísticos que describen el conjunto estudiado. Algunas de las herramientas que utiliza son gráficos, medidas de frecuencias, medidas de centralización, medidas de posición, medidas de dispersión, entre otras.\n",
    "\n",
    "La estadistica inferencial: La cual estudia cómo sacar conclusiones generales para toda la población a partir del estudio de una muestra, y el grado de fiabilidad o significación de los resultados obtenidos. Sus principales herramientas son el muestreo, la estimación de parámetros y el contraste de hipótesis."
   ]
  },
  {
   "cell_type": "markdown",
   "metadata": {},
   "source": [
    "## Conceptos básicos de la estadística descriptiva\n",
    "\n",
    "En *[estadística descriptiva](https://es.wikipedia.org/wiki/Estad%C3%ADstica_descriptiva)* se utilizan distintas medidas para intentar describir las propiedades de nuestros datos, algunos de los conceptos básicos, son:\n",
    "\n",
    "* **Media aritmética**: La [media aritmética](https://es.wikipedia.org/wiki/Media_aritm%C3%A9tica) es el valor obtenido al sumar todos los *[datos](https://es.wikipedia.org/wiki/Dato)* y dividir el resultado entre el número total elementos. Se suele representar con la letra griega $\\mu$. Si tenemos una [muestra](https://es.wikipedia.org/wiki/Muestra_estad%C3%ADstica) de $n$ valores, $x_i$, la *media aritmética*, $\\mu$, es la suma de los valores divididos por el numero de elementos; en otras palabras:\n",
    "$$\\mu = \\frac{1}{n} \\sum_{i}x_i$$\n",
    "\n",
    "\n",
    "* **Desviación respecto a la media**: La desviación respecto a la media es la diferencia en valor absoluto entre cada valor de la variable estadística y la media aritmética.\n",
    "$$D_i = |x_i - \\mu|$$\n",
    "\n",
    "\n",
    "* **Varianza**: La [varianza](https://es.wikipedia.org/wiki/Varianza) es la media aritmética del cuadrado de las desviaciones respecto a la media de una distribución estadística. La varianza intenta describir la dispersión de los *[datos](https://es.wikipedia.org/wiki/Dato)*. Se representa como $\\sigma^2$. \n",
    "$$\\sigma^2 = \\frac{\\sum\\limits_{i=1}^n(x_i - \\mu)^2}{n} $$\n",
    "\n",
    "\n",
    "* **Desviación típica**: La [desviación típica](https://es.wikipedia.org/wiki/Desviaci%C3%B3n_t%C3%ADpica) es la raíz cuadrada de la varianza. Se representa con la letra griega $\\sigma$.\n",
    "$$\\sigma = \\sqrt{\\frac{\\sum\\limits_{i=1}^n(x_i - \\mu)^2}{n}} $$\n",
    "\n",
    "\n",
    "* **Moda**: La <a href=\"https://es.wikipedia.org/wiki/Moda_(estad%C3%ADstica)\">moda</a> es el valor que tiene mayor frecuencia absoluta. Se representa con $M_0$\n",
    "\n",
    "\n",
    "* **Mediana**: La <a href=\"https://es.wikipedia.org/wiki/Mediana_(estad%C3%ADstica)\">mediana</a> es el valor que ocupa el lugar central de todos los datos cuando éstos están ordenados de menor a mayor. Se representa con $\\widetilde{x}$.\n",
    "\n"
   ]
  },
  {
   "cell_type": "markdown",
   "metadata": {},
   "source": [
    "### Ejemplos en Python\n",
    "\n",
    "Calcular los principales indicadores de la *[estadística descriptiva](https://es.wikipedia.org/wiki/Estad%C3%ADstica_descriptiva)* con [Python](http://python.org/) es muy fácil!."
   ]
  },
  {
   "cell_type": "code",
   "execution_count": 3,
   "metadata": {},
   "outputs": [],
   "source": [
    "# Ejemplos de estadistica descriptiva con python\n",
    "\n",
    "import numpy as np # importando numpy\n",
    "from scipy import stats # importando scipy.stats\n",
    "import pandas as pd # importando pandas\n",
    "\n",
    "np.random.seed(2131982) # para poder replicar el random"
   ]
  },
  {
   "cell_type": "code",
   "execution_count": 2,
   "metadata": {},
   "outputs": [
    {
     "data": {
      "text/plain": [
       "array([[ 0.46038022, -1.08942528, -0.62681496, -0.63329028],\n",
       "       [-0.1074033 , -0.88138082, -0.34466623, -0.28320214],\n",
       "       [ 0.94051171,  0.86693793,  1.20947882, -0.16894118],\n",
       "       [-0.12790177, -0.58099931, -0.46188426, -0.18148302],\n",
       "       [-0.76959435, -1.37414587,  1.37696874, -0.18040537]])"
      ]
     },
     "execution_count": 2,
     "metadata": {},
     "output_type": "execute_result"
    }
   ],
   "source": [
    "datos = np.random.randn(5, 4) # datos normalmente distribuidos\n",
    "datos"
   ]
  },
  {
   "cell_type": "code",
   "execution_count": 3,
   "metadata": {},
   "outputs": [
    {
     "data": {
      "text/plain": [
       "-0.14786303590303568"
      ]
     },
     "execution_count": 3,
     "metadata": {},
     "output_type": "execute_result"
    }
   ],
   "source": [
    "# media arítmetica\n",
    "datos.mean() # Calcula la media aritmetica de"
   ]
  },
  {
   "cell_type": "code",
   "execution_count": 4,
   "metadata": {},
   "outputs": [
    {
     "data": {
      "text/plain": [
       "-0.14786303590303568"
      ]
     },
     "execution_count": 4,
     "metadata": {},
     "output_type": "execute_result"
    }
   ],
   "source": [
    "np.mean(datos) # Mismo resultado desde la funcion de numpy"
   ]
  },
  {
   "cell_type": "code",
   "execution_count": 5,
   "metadata": {},
   "outputs": [
    {
     "data": {
      "text/plain": [
       "array([-0.47228757, -0.40416312,  0.71199682, -0.33806709, -0.23679421])"
      ]
     },
     "execution_count": 5,
     "metadata": {},
     "output_type": "execute_result"
    }
   ],
   "source": [
    "datos.mean(axis=1) # media aritmetica de cada fila"
   ]
  },
  {
   "cell_type": "code",
   "execution_count": 6,
   "metadata": {},
   "outputs": [
    {
     "data": {
      "text/plain": [
       "array([ 0.0791985 , -0.61180267,  0.23061642, -0.2894644 ])"
      ]
     },
     "execution_count": 6,
     "metadata": {},
     "output_type": "execute_result"
    }
   ],
   "source": [
    "datos.mean(axis=0) # media aritmetica de cada columna"
   ]
  },
  {
   "cell_type": "code",
   "execution_count": 7,
   "metadata": {},
   "outputs": [
    {
     "data": {
      "text/plain": [
       "-0.23234258265023794"
      ]
     },
     "execution_count": 7,
     "metadata": {},
     "output_type": "execute_result"
    }
   ],
   "source": [
    "# mediana\n",
    "np.median(datos) "
   ]
  },
  {
   "cell_type": "code",
   "execution_count": 8,
   "metadata": {},
   "outputs": [
    {
     "data": {
      "text/plain": [
       "array([-0.1074033 , -0.88138082, -0.34466623, -0.18148302])"
      ]
     },
     "execution_count": 8,
     "metadata": {},
     "output_type": "execute_result"
    }
   ],
   "source": [
    "np.median(datos, 0) # media aritmetica de cada columna"
   ]
  },
  {
   "cell_type": "code",
   "execution_count": 9,
   "metadata": {},
   "outputs": [
    {
     "data": {
      "text/plain": [
       "0.73755354584071608"
      ]
     },
     "execution_count": 9,
     "metadata": {},
     "output_type": "execute_result"
    }
   ],
   "source": [
    " # Desviación típica\n",
    "np.std(datos)"
   ]
  },
  {
   "cell_type": "code",
   "execution_count": 10,
   "metadata": {},
   "outputs": [
    {
     "data": {
      "text/plain": [
       "array([ 0.58057213,  0.78352862,  0.87384108,  0.17682485])"
      ]
     },
     "execution_count": 10,
     "metadata": {},
     "output_type": "execute_result"
    }
   ],
   "source": [
    "np.std(datos, 0) # Desviación típica de cada columna"
   ]
  },
  {
   "cell_type": "code",
   "execution_count": 11,
   "metadata": {},
   "outputs": [
    {
     "data": {
      "text/plain": [
       "0.54398523298221324"
      ]
     },
     "execution_count": 11,
     "metadata": {},
     "output_type": "execute_result"
    }
   ],
   "source": [
    "# varianza\n",
    "np.var(datos) "
   ]
  },
  {
   "cell_type": "code",
   "execution_count": 12,
   "metadata": {},
   "outputs": [
    {
     "data": {
      "text/plain": [
       "array([ 0.337064  ,  0.6139171 ,  0.76359823,  0.03126703])"
      ]
     },
     "execution_count": 12,
     "metadata": {},
     "output_type": "execute_result"
    }
   ],
   "source": [
    "np.var(datos, 0) # varianza de cada columna"
   ]
  },
  {
   "cell_type": "code",
   "execution_count": 13,
   "metadata": {},
   "outputs": [
    {
     "data": {
      "text/plain": [
       "(array([[-0.76959435, -1.37414587, -0.62681496, -0.63329028]]),\n",
       " array([[ 1.,  1.,  1.,  1.]]))"
      ]
     },
     "execution_count": 13,
     "metadata": {},
     "output_type": "execute_result"
    }
   ],
   "source": [
    "# moda\n",
    "stats.mode(datos) # Calcula la moda de cada columna\n",
    "# el 2do array devuelve la frecuencia."
   ]
  },
  {
   "cell_type": "code",
   "execution_count": 4,
   "metadata": {},
   "outputs": [
    {
     "data": {
      "text/plain": [
       "ModeResult(mode=array([6]), count=array([5]))"
      ]
     },
     "execution_count": 4,
     "metadata": {},
     "output_type": "execute_result"
    }
   ],
   "source": [
    "datos2 = np.array([1, 2, 3, 6, 6, 1, 2, 4, 2, 2, 6, 6, 8, 10, 6])\n",
    "stats.mode(datos2) # aqui la moda es el 6 porque aparece 5 veces en el vector."
   ]
  },
  {
   "cell_type": "markdown",
   "metadata": {},
   "source": [
    "## Practica :\n",
    "Generar un modelo que me permita simular el uso de recursos de los hospitales por cada una de las provincias, para ello obtener la informacion revisada en la practica de investigacion y tomar como ejemplo la practica de simulacion de atencion de paciente del COVID revisada en clase. Lo que se busca es poder generar graficos de uso de recursos:\n",
    "\n",
    "- Costos (Generar un aproximacion de cuanto se invierte para atender a un paciente con COVID)\n",
    "- Personal (Aproximacion del uso del personal por paciente, o el hospital)\n",
    "- Camas\n",
    "- Equipos/Insumos medicos (Obtener una aproximacion del uso de equipos medicos)\n",
    "- Pacientes (Informacion obtenida desde el ministerio de salud - validar con el porcentual del tipo de paciente [ninio 10%, adulto 30%, riesgo 60%]) - Hospitalizacion 80%, Otros 20%\n",
    "\n",
    "\n",
    "Para ello deberan generar un modelo lo mas cercano a la realidad, y con ayuda de la estadistica descriptiva ajustar los valores. Es importante tener como datos de entrada el dia y el numero de pacientes.\n",
    "\n",
    "Finalmente validar el modelo con lo la realidad del pais (Investigar en  base al tema el uso de los recursos publicos )\n"
   ]
  },
  {
   "cell_type": "markdown",
   "metadata": {},
   "source": [
    "### Datos\n",
    "Costo atender terapia intenciva: $3426\n",
    "\n",
    "Costo solo hospitalización: $2674"
   ]
  },
  {
   "cell_type": "code",
   "execution_count": 42,
   "metadata": {},
   "outputs": [
    {
     "name": "stdout",
     "output_type": "stream",
     "text": [
      "[ 4  1  0  0  0  2  1  1  3  1  2  6  1  5  0  0  0  0  0  0  7 15  7  3\n",
      "  6  4  3 13  1 12  7 11 12  4  0]\n",
      "3.7714285714285714\n"
     ]
    }
   ],
   "source": [
    "#Implementar\n",
    "import pandas as pd\n",
    "import numpy as np\n",
    "\n",
    "url = 'C:/Users/jhonn/Desktop/Jhonny/Universidad/10 Decimo/simulacion/Prueba/Casos covid por provincias.xlsx'\n",
    "df = pd.read_excel(url)\n",
    "df = df[df['Provincia'].isin(['Loja'])]\n",
    "\n",
    "y = list(df.iloc [0, :].loc['19/3/2020':])\n",
    "#x = np.array(range(1,len(y)+1))\n",
    "llegada = [y[0]]\n",
    "\n",
    "for i in range(len(y)-1):\n",
    "    llegada.append(y[i+1]-y[i])\n",
    "llegada = np.asarray(llegada)\n",
    "llegada = llegada.astype(int)\n",
    "print(llegada)\n",
    "\n",
    "media = np.asarray(y1).mean()\n",
    "\n",
    "print(media)"
   ]
  },
  {
   "cell_type": "code",
   "execution_count": 98,
   "metadata": {},
   "outputs": [
    {
     "name": "stdout",
     "output_type": "stream",
     "text": [
      "[3, 27, 101]\n"
     ]
    }
   ],
   "source": [
    "import simpy\n",
    "import random\n",
    "import matplotlib.pyplot as pp\n",
    "\n",
    "NUMERO_CAMAS = 35\n",
    "TIEMPO_SIMULACION_DIAS = 100\n",
    "\n",
    "MIN_DIAS_INTERNO = 5\n",
    "MAX_DIAS_INTER = 20\n",
    "\n",
    "x = [i for i in range(1,TIEMPO_SIMULACION_DIAS+1)]\n",
    "\n",
    "lista_fallecido_falta_camas = [0] * TIEMPO_SIMULACION_DIAS\n",
    "lista_camas_ocupadas = [0] * TIEMPO_SIMULACION_DIAS\n",
    "lista_no_hospitalicion = [0] * TIEMPO_SIMULACION_DIAS\n",
    "lista_muertos_tipo = [0, 0, 0]\n",
    "\n",
    "class Hospital(object):\n",
    "    def __init__(self, environment, num_camas):\n",
    "    \n",
    "        self.camas = simpy.Resource(environment, num_camas)\n",
    "        self.env = environment\n",
    "        \n",
    "    def hospitalizaicon(self, paciente, tipo):\n",
    "        yield self.env.timeout(random.randint(MIN_DIAS_INTERNO,MAX_DIAS_INTER))\n",
    "                            \n",
    "\n",
    "def llegada_paciente(env, hospital, paciente, tipo):\n",
    "    dias_max_espera = random.randint(2, 4)\n",
    "    llega_hospital = env.now\n",
    "  \n",
    "    with hospital.camas.request() as cama:\n",
    "        yield cama\n",
    "        llega_hospital = env.now - llega_hospital\n",
    "        if dias_max_espera < llega_hospital:\n",
    "            lista_fallecido_falta_camas[env.now] += 1\n",
    "            if tipo=='n':\n",
    "                lista_muertos_tipo[0]+=1\n",
    "            elif tipo=='a':\n",
    "                lista_muertos_tipo[1]+=1\n",
    "            else:\n",
    "                lista_muertos_tipo[2]+=1\n",
    "        else:\n",
    "            lista_camas_ocupadas[env.now] += 1\n",
    "            yield env.process(hospital.hospitalizaicon(paciente, tipo))\n",
    "           \n",
    "            rnd1 = random.randint(1,100)\n",
    "            \n",
    "            if tipo=='n':\n",
    "                if rnd1 <= 5:\n",
    "                    lista_muertos_tipo[0]+=1\n",
    "            elif tipo=='a':\n",
    "                if rnd1 <= 18:\n",
    "                    lista_muertos_tipo[1]+=1\n",
    "            else:\n",
    "                if rnd1 <= 55:\n",
    "                    lista_muertos_tipo[2]+=1 \n",
    "                \n",
    "            lista_camas_ocupadas[env.now] -= 1\n",
    "            \n",
    "def ejecutar_simulacion(env, num_camas):\n",
    "    \n",
    "    hospital = Hospital(env,num_camas)\n",
    "                    \n",
    "    dia = 0\n",
    "    paciente = 0\n",
    "    while True:\n",
    "        \n",
    "        yield env.timeout(1)\n",
    "        \n",
    "        pacientes_dia = 0          \n",
    "        if dia<len(llegada):\n",
    "            pacientes_dia = llegada[dia]\n",
    "        else:\n",
    "            pacientes_dia =  random.randint(3,4)\n",
    "        for i in range(pacientes_dia):\n",
    "            rnd1 = random.randint(1,100)\n",
    "            paciente += 1\n",
    "            if rnd1 <= 80:\n",
    "                    \n",
    "                rnd = random.randint(1,100)\n",
    "                if rnd < 10:\n",
    "                    #print(\"niño\")\n",
    "                    env.process(llegada_paciente(env,hospital, paciente,'n'))\n",
    "                elif rnd<40:\n",
    "                    #print(\"adulto\")\n",
    "                    env.process(llegada_paciente(env,hospital, paciente, 'a'))\n",
    "                else:\n",
    "                        #print(\"riesgo\")\n",
    "                    env.process(llegada_paciente(env, hospital, paciente, 'r'))\n",
    "           \n",
    "        dia+=1\n",
    "        \n",
    "env=simpy.Environment()\n",
    "\n",
    "env.process(ejecutar_simulacion(env, NUMERO_CAMAS))\n",
    "\n",
    "env.run(until = TIEMPO_SIMULACION_DIAS)\n",
    "\n",
    "lista_camas_ocupadas1 = [0] * TIEMPO_SIMULACION_DIAS\n",
    "lista_camas_ocupadas1[0] = lista_camas_ocupadas[0]\n",
    "for i in range(1,len(lista_camas_ocupadas)):\n",
    "    lista_camas_ocupadas1[i] = lista_camas_ocupadas1[i-1]+lista_camas_ocupadas[i]\n",
    "    \n",
    "print(lista_muertos_tipo)"
   ]
  },
  {
   "cell_type": "markdown",
   "metadata": {},
   "source": [
    "## Personas fallecidas\n"
   ]
  },
  {
   "cell_type": "code",
   "execution_count": 99,
   "metadata": {},
   "outputs": [
    {
     "name": "stdout",
     "output_type": "stream",
     "text": [
      "Niños:    3\n",
      "Adultos:  27\n",
      "Riesgo:   101\n"
     ]
    }
   ],
   "source": [
    "print(\"Niños:   \",lista_muertos_tipo[0])\n",
    "print(\"Adultos: \",lista_muertos_tipo[1])\n",
    "print(\"Riesgo:  \",lista_muertos_tipo[2])"
   ]
  },
  {
   "cell_type": "markdown",
   "metadata": {},
   "source": [
    "### Grafica de camas utilizadas por día"
   ]
  },
  {
   "cell_type": "code",
   "execution_count": 100,
   "metadata": {},
   "outputs": [
    {
     "data": {
      "image/png": "[encoded data removed]",
      "text/plain": [
       "<Figure size 432x288 with 1 Axes>"
      ]
     },
     "metadata": {
      "needs_background": "light"
     },
     "output_type": "display_data"
    }
   ],
   "source": [
    "import matplotlib.pyplot as pp\n",
    "pp.plot(x,lista_camas_ocupadas1)\n",
    "pp.show()"
   ]
  },
  {
   "cell_type": "markdown",
   "metadata": {},
   "source": [
    "### Grafica de muertos por falta de camas"
   ]
  },
  {
   "cell_type": "code",
   "execution_count": 101,
   "metadata": {},
   "outputs": [
    {
     "data": {
      "image/png": "[encoded data removed]",
      "text/plain": [
       "<Figure size 432x288 with 1 Axes>"
      ]
     },
     "metadata": {
      "needs_background": "light"
     },
     "output_type": "display_data"
    }
   ],
   "source": [
    "import matplotlib.pyplot as pp\n",
    "pp.plot(x,lista_fallecido_falta_camas)\n",
    "pp.show()"
   ]
  },
  {
   "cell_type": "markdown",
   "metadata": {},
   "source": [
    "## Conclusiones\n",
    "En la siguiente simulación se puede observar que tenemos un gran numero de muerte por falta de camas en el hospital a pesar de tener de 2 a 4 dias de tolerancia a esperar una cama.\n",
    "Tambien se puede observar que al tener un mayor porcentaje de mortalidad las personas adultas y adultas mayores, se ve reflejado en un mayor numero de fallecidos a los largo de los 100 dias simulados.\n",
    "\n",
    "## Recomendaciones\n",
    "Se recomienda implementar el mayor numero de parametros posibles y el uso de información confiable para poder obtener una simulación mas acorde a la realidad.\n",
    "La simulación se ha hecho con datos de la provincia de Loja, por lo que si es necesario adquirir mas camas hospitalarias para la atención de los contagiados por COVID-9.\n",
    "\n",
    "## Opiniones\n",
    "A pesar que el COVID-9 es una enfermedad sin una cura aún, es posible aminorar las victimas teniendo hospitales mejores equipados para tratar la misma. Es necesario tener en cuenta que la tasa de mortalidad dependiendo de la edad de las personas varía, por lo que tambien es necesario tomar medidas en base a este factor."
   ]
  }
 ],
 "metadata": {
  "kernelspec": {
   "display_name": "Python 3",
   "language": "python",
   "name": "python3"
  },
  "language_info": {
   "codemirror_mode": {
    "name": "ipython",
    "version": 3
   },
   "file_extension": ".py",
   "mimetype": "text/x-python",
   "name": "python",
   "nbconvert_exporter": "python",
   "pygments_lexer": "ipython3",
   "version": "3.7.6"
  }
 },
 "nbformat": 4,
 "nbformat_minor": 1
}
